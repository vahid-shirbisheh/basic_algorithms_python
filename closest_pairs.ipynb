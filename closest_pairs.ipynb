{
 "cells": [
  {
   "cell_type": "markdown",
   "metadata": {},
   "source": [
    "# Finding The Closest Pair Algorithm"
   ]
  },
  {
   "cell_type": "markdown",
   "metadata": {},
   "source": [
    "Given a list of points (Euclidean coordinates) in plane, we are searching for two point\n",
    "whose distance (Euclidean distance) is the smallest among all pairs of points.\n",
    "Again we use the divide and conquer strategy to solve this problem.\n",
    "Inspired by (one dimensional case) the closest points on a straight line, which is immediately solvable\n",
    "by sorting them with respect to their distance from a point (say origin), we first sort the points w.r.t x-coordinate.\n",
    "\n",
    "We skip the sorting part of the algorithm and simply use python built-in function sorted().\n",
    "\n",
    "At the end we illustrate the result in a plot."
   ]
  },
  {
   "cell_type": "code",
   "execution_count": 1,
   "metadata": {},
   "outputs": [],
   "source": [
    "import random\n",
    "import matplotlib.pyplot as plt\n",
    "from matplotlib.pyplot import figure\n",
    "import numpy as np\n",
    "import math"
   ]
  },
  {
   "cell_type": "code",
   "execution_count": 2,
   "metadata": {},
   "outputs": [],
   "source": [
    "# The Euclidean distance between two pints in the plane\n",
    "def dist(a, b):\n",
    "    return math.sqrt((a[0] - b[0]) ** 2 + (a[1] - b[1]) ** 2)"
   ]
  },
  {
   "cell_type": "code",
   "execution_count": 3,
   "metadata": {},
   "outputs": [],
   "source": [
    "# The following function receives a list of points and displays it on a plot\n",
    "def show_points(points_list, s=80, c=\"blue\", alpha=0.25):\n",
    "    points = np.array(points_list)\n",
    "    plt.scatter(points[:,0], points[:,1], s=s, c=c, alpha=alpha)\n",
    "    plt.xlabel(\"x\")\n",
    "    plt.ylabel(\"y\")"
   ]
  },
  {
   "cell_type": "code",
   "execution_count": 4,
   "metadata": {},
   "outputs": [],
   "source": [
    "def closest_pair_base_case(points_list):\n",
    "    if len(points_list) == 2:\n",
    "        return points_list[0], points_list[1]\n",
    "    elif len(points_list) == 3:\n",
    "        a = dist(points_list[0], points_list[1])\n",
    "        b = dist(points_list[1], points_list[2])\n",
    "        c = dist(points_list[2], points_list[0])\n",
    "        if a <= b and a <= c:\n",
    "            return points_list[0], points_list[1]\n",
    "        elif b <= a and b <= c:\n",
    "            return points_list[1], points_list[2]\n",
    "        else:\n",
    "            return points_list[2], points_list[0]\n",
    "    "
   ]
  },
  {
   "cell_type": "code",
   "execution_count": 5,
   "metadata": {},
   "outputs": [],
   "source": [
    "# The recursive function finding the closest pair\n",
    "def closest_pairs(points_list):\n",
    "    # Base case\n",
    "    if len(points_list) <= 3:\n",
    "        closest = closest_pair_base_case(points_list)\n",
    "        min_dist = dist(closest[0], closest[1])\n",
    "        return closest\n",
    "\n",
    "    # sorting w.r.t x-coordinate\n",
    "    sorted_list = sorted(points_list, key=lambda point: point[0])\n",
    "    # DIVIDE: dividing the list in two parts\n",
    "    mid_len = int(len(sorted_list) / 2)\n",
    "    X = sorted_list[:mid_len]\n",
    "    Y = sorted_list[mid_len:]\n",
    "    # CONQUER: finding the closest pairs in X and Y separately\n",
    "    (p1, p2) = closest_pairs(X)\n",
    "    (q1, q2) = closest_pairs(Y)\n",
    "    d_X = dist(p1, p2)\n",
    "    d_Y = dist(q1, q2)\n",
    "    \n",
    "    # Finding the closest pair in each subset X and Y and compairing to eachother\n",
    "    closest = (p1, p2)\n",
    "    d = d_X\n",
    "    \n",
    "    if d_X > d_Y:\n",
    "        closest = (q1, q2)\n",
    "        d = d_Y\n",
    "\n",
    "    min_dist = d\n",
    "    # finding split closest pairs\n",
    "    x0 = X[-1][0]\n",
    "    strip = [(p, q) for (p, q) in sorted_list if p<=x0+d and p>=x0-d]\n",
    "    strip_sorted = sorted(strip, key=lambda point: point[1])\n",
    "    # print(\"Strip: \", strip_sorted)\n",
    "    for i in range(len(strip_sorted)):\n",
    "        for j in range(1, 8):\n",
    "            if i+j<len(strip_sorted) and dist(strip_sorted[i], strip_sorted[i+j]) < min_dist:\n",
    "                min_dist = dist(strip_sorted[i], strip_sorted[i+j])\n",
    "                closest = (strip_sorted[i], strip_sorted[i+j])\n",
    "    \n",
    "    \n",
    "    return closest\n"
   ]
  },
  {
   "cell_type": "code",
   "execution_count": 18,
   "metadata": {},
   "outputs": [
    {
     "name": "stdout",
     "output_type": "stream",
     "text": [
      "[(90, 224), (598, 895), (408, 641), (937, 181), (630, 819), (536, 182), (961, 339), (293, 190), (869, 653), (433, 60), (693, 744), (992, 894), (827, 875), (620, 443), (825, 134), (25, 482), (439, 995), (881, 909), (772, 348), (462, 603), (235, 153), (356, 188), (441, 805), (119, 329), (960, 242), (664, 438), (543, 501), (187, 668), (331, 115), (423, 23), (149, 905), (343, 472), (375, 382), (755, 618), (929, 627), (10, 574), (140, 888), (876, 834), (11, 712), (265, 438), (577, 49), (546, 155), (223, 772), (816, 730), (191, 6), (212, 730), (954, 386), (203, 505), (952, 591), (624, 667), (128, 822), (14, 186), (242, 196), (600, 211), (649, 187), (19, 809), (887, 881), (783, 372), (385, 704), (406, 811), (91, 883), (352, 789), (732, 596), (464, 819), (396, 333), (264, 609), (914, 278), (672, 415), (982, 389), (398, 510), (794, 2), (372, 448), (743, 510), (591, 932), (195, 727), (507, 155), (668, 403), (397, 775), (122, 86), (649, 885)]\n",
      "closest pair:  [(668, 403), (672, 415)]       with the distance:  12.649110640673518\n"
     ]
    },
    {
     "data": {
      "image/png": "[encoded data removed]",
      "text/plain": [
       "<Figure size 510x510 with 1 Axes>"
      ]
     },
     "metadata": {
      "needs_background": "light"
     },
     "output_type": "display_data"
    }
   ],
   "source": [
    "points_list = []\n",
    "random.seed(121)\n",
    "for i in range(0,80):\n",
    "    p = random.randint(1,1000)\n",
    "    q = random.randint(1,1000)\n",
    "    points_list.append((p, q))\n",
    "print(points_list)\n",
    "#finding the closest pair\n",
    "closest = list(closest_pairs(points_list))\n",
    "print(\"closest pair: \", closest, \"      with the distance: \", dist(closest[0], closest[1]))\n",
    "# Scatter plot of the points\n",
    "figure(figsize=(6, 6), dpi=85)\n",
    "show_points(points_list)\n",
    "show_points(closest, s=20, c=\"black\", alpha=1.0)"
   ]
  },
  {
   "cell_type": "code",
   "execution_count": null,
   "metadata": {},
   "outputs": [],
   "source": []
  },
  {
   "cell_type": "code",
   "execution_count": null,
   "metadata": {},
   "outputs": [],
   "source": []
  }
 ],
 "metadata": {
  "kernelspec": {
   "display_name": "Python 3",
   "language": "python",
   "name": "python3"
  },
  "language_info": {
   "codemirror_mode": {
    "name": "ipython",
    "version": 3
   },
   "file_extension": ".py",
   "mimetype": "text/x-python",
   "name": "python",
   "nbconvert_exporter": "python",
   "pygments_lexer": "ipython3",
   "version": "3.8.3"
  }
 },
 "nbformat": 4,
 "nbformat_minor": 4
}
