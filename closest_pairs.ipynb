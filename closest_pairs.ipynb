{
 "cells": [
  {
   "cell_type": "markdown",
   "metadata": {},
   "source": [
    "# Finding The Closest Pair Algorithm"
   ]
  },
  {
   "cell_type": "markdown",
   "metadata": {},
   "source": [
    "Given a list of points (Euclidean coordinates) in plane, we are searching for two point\n",
    "whose distance (Euclidean distance) is the smallest among all pairs of points.\n",
    "Again we use the divide and conquer strategy to solve this problem.\n",
    "Inspired by (one dimensional case) the closest points on a straight line, which is immediately solvable\n",
    "by sorting them with respect to their distance from a point (say origin), we first sort the points w.r.t x-coordinate.\n",
    "\n",
    "We skip the sorting part of the algorithm and simply use python built-in function sorted().\n",
    "\n",
    "To be clear, we display first steps of the algorithm in several plots."
   ]
  },
  {
   "cell_type": "code",
   "execution_count": 7,
   "metadata": {},
   "outputs": [],
   "source": [
    "import random\n",
    "import matplotlib.pyplot as plt\n",
    "from matplotlib.pyplot import figure\n",
    "import numpy as np\n",
    "import math"
   ]
  },
  {
   "cell_type": "code",
   "execution_count": 2,
   "metadata": {},
   "outputs": [],
   "source": [
    "# The Euclidean distance between two pints in the plane\n",
    "def dist(a, b):\n",
    "    return math.sqrt((a[0] - b[0]) ** 2 + (a[1] - b[1]) ** 2)"
   ]
  },
  {
   "cell_type": "code",
   "execution_count": 14,
   "metadata": {},
   "outputs": [],
   "source": [
    "# The following function receives a list of points and displays it on a plot\n",
    "def show_points(points_list, s=80, c=\"blue\", alpha=0.25):\n",
    "    points = np.array(points_list)\n",
    "    plt.scatter(points[:,0], points[:,1], s=s, c=c, alpha=alpha)\n",
    "    plt.xlabel(\"x\")\n",
    "    plt.ylabel(\"y\")"
   ]
  },
  {
   "cell_type": "code",
   "execution_count": 45,
   "metadata": {},
   "outputs": [],
   "source": [
    "def closest_pair_base_case(points_list):\n",
    "    if len(points_list) == 2:\n",
    "        return points_list[0], points_list[1]\n",
    "    elif len(points_list) == 3:\n",
    "        a = dist(points_list[0], points_list[1])\n",
    "        b = dist(points_list[1], points_list[2])\n",
    "        c = dist(points_list[2], points_list[0])\n",
    "        if a <= b and a <= c:\n",
    "            return points_list[0], points_list[1]\n",
    "        elif b <= a and b <= c:\n",
    "            return points_list[1], points_list[2]\n",
    "        else:\n",
    "            return points_list[2], points_list[0]\n",
    "    "
   ]
  },
  {
   "cell_type": "code",
   "execution_count": 89,
   "metadata": {},
   "outputs": [],
   "source": [
    "# The recursive function finding the closest pair\n",
    "def closest_pairs(points_list):\n",
    "    # Base case\n",
    "    if len(points_list) <= 3:\n",
    "        closest = closest_pair_base_case(points_list)\n",
    "        min_dist = dist(closest[0], closest[1])\n",
    "        return closest\n",
    "\n",
    "    # sorting w.r.t x-coordinate\n",
    "    sorted_list = sorted(points_list, key=lambda point: point[0])\n",
    "    # DIVIDE: dividing the list in two parts\n",
    "    mid_len = int(len(sorted_list) / 2)\n",
    "    X = sorted_list[:mid_len]\n",
    "    Y = sorted_list[mid_len:]\n",
    "    # CONQUER: finding the closest pairs in X and Y separately\n",
    "    (p1, p2) = closest_pairs(X)\n",
    "    (q1, q2) = closest_pairs(Y)\n",
    "    d_X = dist(p1, p2)\n",
    "    d_Y = dist(q1, q2)\n",
    "    \n",
    "    # Finding the closest pair in each subset X and Y and compairing to eachother\n",
    "    closest = (p1, p2)\n",
    "    d = d_X\n",
    "    \n",
    "    if d_X > d_Y:\n",
    "        closest = (q1, q2)\n",
    "        d = d_Y\n",
    "\n",
    "    min_dist = d\n",
    "    # finding split closest pairs\n",
    "    x0 = X[-1][0]\n",
    "    strip = [(p, q) for (p, q) in sorted_list if p<=x0+d and p>=x0-d]\n",
    "    strip_sorted = sorted(strip, key=lambda point: point[1])\n",
    "    # print(\"Strip: \", strip_sorted)\n",
    "    for i in range(len(strip_sorted)):\n",
    "        for j in range(1, 8):\n",
    "            if i+j<len(strip_sorted) and dist(strip_sorted[i], strip_sorted[i+j]) < min_dist:\n",
    "                min_dist = dist(strip_sorted[i], strip_sorted[i+j])\n",
    "                closest = (strip_sorted[i], strip_sorted[i+j])\n",
    "    \n",
    "    \n",
    "    return closest\n"
   ]
  },
  {
   "cell_type": "code",
   "execution_count": 99,
   "metadata": {},
   "outputs": [
    {
     "name": "stdout",
     "output_type": "stream",
     "text": [
      "[(40, 108), (164, 240), (213, 399), (437, 311), (18, 278), (80, 177), (74, 50), (90, 448), (439, 275), (487, 28), (440, 98), (199, 268), (384, 144), (426, 105), (471, 194), (489, 485), (135, 309), (111, 485), (326, 452), (143, 380), (97, 117), (397, 475), (282, 175), (42, 131), (115, 65), (417, 420), (311, 407), (437, 436), (209, 397), (283, 497), (268, 447), (452, 379), (112, 399), (197, 165), (299, 275), (393, 207), (437, 156), (180, 107), (137, 272), (61, 449), (465, 342), (162, 185), (261, 131), (259, 19), (334, 58), (357, 476), (444, 34), (122, 347), (387, 393), (210, 76), (415, 92), (158, 107), (459, 410), (144, 464), (24, 148), (250, 412), (94, 251), (309, 192), (31, 105), (492, 35), (480, 370), (146, 453), (207, 398), (350, 266), (108, 199), (391, 181), (468, 424), (376, 326), (105, 153), (452, 186), (186, 273), (59, 235), (188, 221), (403, 469), (329, 109), (382, 294), (386, 253), (388, 205), (98, 465), (155, 243), (266, 183), (73, 435), (239, 78), (272, 44), (61, 343), (39, 82), (137, 186), (295, 299), (461, 362), (1, 190), (220, 484), (437, 399), (2, 389), (65, 190), (9, 145), (269, 91), (31, 87), (382, 148), (230, 254), (313, 145)]\n",
      "closest pair:  [(132, 304), (133, 302)]       with the distance:  2.23606797749979\n"
     ]
    },
    {
     "data": {
      "image/png": "[encoded data removed]",
      "text/plain": [
       "<Figure size 680x680 with 1 Axes>"
      ]
     },
     "metadata": {
      "needs_background": "light"
     },
     "output_type": "display_data"
    }
   ],
   "source": [
    "points_list = []\n",
    "for i in range(0,100):\n",
    "    p = random.randint(1,500)\n",
    "    q = random.randint(1,500)\n",
    "    points_list.append((p, q))\n",
    "print(points_list)\n",
    "print(\"closest pair: \", closest, \"      with the distance: \", dist(closest[0], closest[1]))\n",
    "#finding the closest pair\n",
    "closest = list(closest_pairs(points_list))\n",
    "# Scatter plot of the points\n",
    "figure(figsize=(8, 8), dpi=85)\n",
    "show_points(points_list)\n",
    "show_points(closest, s=20, c=\"black\", alpha=1.0)"
   ]
  },
  {
   "cell_type": "code",
   "execution_count": null,
   "metadata": {},
   "outputs": [],
   "source": []
  }
 ],
 "metadata": {
  "kernelspec": {
   "display_name": "Python 3",
   "language": "python",
   "name": "python3"
  },
  "language_info": {
   "codemirror_mode": {
    "name": "ipython",
    "version": 3
   },
   "file_extension": ".py",
   "mimetype": "text/x-python",
   "name": "python",
   "nbconvert_exporter": "python",
   "pygments_lexer": "ipython3",
   "version": "3.8.3"
  }
 },
 "nbformat": 4,
 "nbformat_minor": 4
}
