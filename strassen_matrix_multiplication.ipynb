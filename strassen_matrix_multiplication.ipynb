{
 "cells": [
  {
   "cell_type": "markdown",
   "metadata": {},
   "source": [
    "# The Strassen Subcubic Matrix Multiplication Algorithm"
   ]
  },
  {
   "cell_type": "markdown",
   "metadata": {},
   "source": [
    "### A primary simplifying assumption:\n",
    "In this program, we implement the Strassen subcubic matrix multiplication algorithm. Again, we use the divide and conquer strategy. In order to apply this strategy and to keep the presentation simple, we restrict our program to square $n\\times n$ matricies where $n$ is a power of 2, i.e. $n=2^m$ for some positive integer $m$. One can later add a subroutine to avoid this retriction.\n",
    "\n",
    "### Our choice of library:\n",
    "Since we would like to compare our algorithm speed with the state of the art libraries, we use pytorch tensors for our work.\n",
    "\n",
    "### High level overrview:\n",
    "Let $X$ and $Y$ be two $n\\times n$ matricies as described above. We break each matrix into four submatricies as follow:\n",
    "### $$\n",
    "X=\\left[\\begin{array}{ll}\n",
    "A & B \\\\\n",
    "C & D\n",
    "\\end{array}\\right]\n",
    ",\n",
    "Y=\\left[\\begin{array}{ll}\n",
    "E & F \\\\\n",
    "G & H\n",
    "\\end{array}\\right]\n",
    "$$\n",
    "Then we have \n",
    "### $$\n",
    "X Y=\\left[\\begin{array}{ll}\n",
    "M & N \\\\\n",
    "P & Q\n",
    "\\end{array}\\right]\n",
    "$$\n",
    "where $M, N, P, Q$ are $\\left(\\frac{n}{2} \\times \\frac{n}{2}\\right)$ square matricies compted as follows:\n",
    "\n",
    "### \\begin{equation}\n",
    "\\begin{aligned}\n",
    "M &=A E+B G \\\\\n",
    "N &=A F+B H \\\\\n",
    "P &=C E+D G \\\\\n",
    "Q &=C F+D H\n",
    "\\end{aligned}\n",
    "\\end{equation}\n",
    "As it is seen in the above equations, now we have to perform 8 matrix multiplications to compute $XY$.  "
   ]
  },
  {
   "cell_type": "code",
   "execution_count": 1,
   "metadata": {},
   "outputs": [],
   "source": [
    "import torch"
   ]
  },
  {
   "cell_type": "code",
   "execution_count": null,
   "metadata": {},
   "outputs": [],
   "source": [
    "def strassen_matrix_mult(matrix1, matrix2):\n",
    "    "
   ]
  }
 ],
 "metadata": {
  "kernelspec": {
   "display_name": "Python 3",
   "language": "python",
   "name": "python3"
  },
  "language_info": {
   "codemirror_mode": {
    "name": "ipython",
    "version": 3
   },
   "file_extension": ".py",
   "mimetype": "text/x-python",
   "name": "python",
   "nbconvert_exporter": "python",
   "pygments_lexer": "ipython3",
   "version": "3.8.3"
  }
 },
 "nbformat": 4,
 "nbformat_minor": 4
}
