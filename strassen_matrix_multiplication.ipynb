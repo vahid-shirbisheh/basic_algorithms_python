{
 "cells": [
  {
   "cell_type": "markdown",
   "metadata": {},
   "source": [
    "# The Strassen Subcubic Matrix Multiplication Algorithm"
   ]
  },
  {
   "cell_type": "markdown",
   "metadata": {},
   "source": [
    "### A simplifying assumption:\n",
    "In this program, we implement the Strassen subcubic matrix multiplication algorithm. Again, we use the divide and conquer strategy. In order to apply this strategy and to keep the presentation simple, we restrict our program to square $n\\times n$ matricies where $n$ is a power of 2, i.e. $n=2^m$ for some positive integer $m$. One can later add a subroutine to avoid this retriction.\n",
    "\n",
    "### Our choice of library:\n",
    "We use pytorch tensors for our work.\n",
    "\n",
    "### High level overview:\n",
    "Let $X$ and $Y$ be two $n\\times n$ matricies as described above. We break each matrix into four submatricies as follow:\n",
    "### $$\n",
    "X=\\left[\\begin{array}{ll}\n",
    "A & B \\\\\n",
    "C & D\n",
    "\\end{array}\\right]\n",
    ",\n",
    "Y=\\left[\\begin{array}{ll}\n",
    "E & F \\\\\n",
    "G & H\n",
    "\\end{array}\\right]\n",
    "$$\n",
    "Then we have \n",
    "### $$\n",
    "X Y=\\left[\\begin{array}{ll}\n",
    "M & N \\\\\n",
    "P & Q\n",
    "\\end{array}\\right]\n",
    "$$\n",
    "where $M, N, P, Q$ are $\\frac{n}{2} \\times \\frac{n}{2}$ square matricies computed as follows:\n",
    "\n",
    "### \\begin{equation}\n",
    "\\begin{aligned}\n",
    "M &=A E+B G \\\\\n",
    "N &=A F+B H \\\\\n",
    "P &=C E+D G \\\\\n",
    "Q &=C F+D H\n",
    "\\end{aligned}\n",
    "\\end{equation}\n",
    "As it is seen in the above equations, now we have to perform 8 smaller matrix multiplications to compute $XY$. If we continue this path, asymptotic running time of our algorithm wold be $O(n^3)$. Strassen, in 1969, proposed a clever method for computing the multiplication $XY$ by computing only 7 smaller matrix multiplications. To implement his method, we define $\\frac{n}{2} \\times \\frac{n}{2}$ square matricies $Z_1, ..., Z_7$ as follows:\n",
    "### \\begin{equation}\n",
    "\\begin{aligned}\n",
    "Z_1 &=A(F-H) \\\\\n",
    "Z_2 &=(A+B)H\\\\\n",
    "Z_3 &=(C+D)E \\\\\n",
    "Z_4 &=D(G-E) \\\\\n",
    "Z_5 &=(A+D)(E+H) \\\\\n",
    "Z_6 &=(B-D)(G+H) \\\\\n",
    "Z_7 &=(A-C)(E+F) \n",
    "\\end{aligned}\n",
    "\\end{equation}\n",
    "Then we have \n",
    "### \\begin{equation}\n",
    "\\begin{aligned}\n",
    "M &=Z_5 + Z_4 - Z_2 + Z_6  \\\\\n",
    "N &=Z_1 + Z_2  \\\\\n",
    "P &=Z_3 + Z_4  \\\\\n",
    "Q &=Z_2 + Z_5 - Z_3 - Z_7  \n",
    "\\end{aligned}\n",
    "\\end{equation}\n",
    "and we get an asymptotically faster algorithm that $O(n^3)$.\n",
    "### Comparison:\n",
    "We also implement naive matrix multiplication and by definition matrix multiplication. Finally, we compare the running time of the following matrix multiplications on two large matricies consisting of random entries:\n",
    "\n",
    "1. torch.matmul function in pytorch\n",
    "2. Strassen algorithm\n",
    "3. naive matrix mulriplication \n",
    "4. by definition (using the fnction torch.dot(,) defined in pytorch)\n",
    "\n",
    "We the random matricies, we both constrauuct them in CPU(integers and possibly floats) and in CUDA (floats).\n",
    "\n",
    "### We continue to use the above notation in our code:"
   ]
  },
  {
   "cell_type": "code",
   "execution_count": 1,
   "metadata": {},
   "outputs": [],
   "source": [
    "import torch"
   ]
  },
  {
   "cell_type": "code",
   "execution_count": 2,
   "metadata": {},
   "outputs": [],
   "source": [
    "import time"
   ]
  },
  {
   "cell_type": "code",
   "execution_count": 3,
   "metadata": {},
   "outputs": [],
   "source": [
    "def strassen_matrix_mult(X, Y):\n",
    "    n = int(X.shape[0]/2)\n",
    "    if n == 1:\n",
    "        return torch.tensor([[torch.dot(X[0,:],Y[:,0]), torch.dot(X[0,:],Y[:,1]) ],\n",
    "                             [torch.dot(X[1,:],Y[:,0]), torch.dot(X[1,:],Y[:,1]) ]])\n",
    "    # 8 submatricies of X and Y\n",
    "    A = X[:n, :n]\n",
    "    B = X[:n, n:]\n",
    "    C = X[n:, :n]\n",
    "    D = X[n:, n:]\n",
    "    E = Y[:n, :n]\n",
    "    F = Y[:n, n:]\n",
    "    G = Y[n:, :n]\n",
    "    H = Y[n:, n:]\n",
    "    # 7 matricies of Strassen method\n",
    "    Z1 = strassen_matrix_mult(A, F-H)\n",
    "    Z2 = strassen_matrix_mult(A+B, H)\n",
    "    Z3 = strassen_matrix_mult(C+D, E)\n",
    "    Z4 = strassen_matrix_mult(D, G-E)\n",
    "    Z5 = strassen_matrix_mult(A+D, E+H)\n",
    "    Z6 = strassen_matrix_mult(B-D, G+H)\n",
    "    Z7 = strassen_matrix_mult(A-C, E+F)\n",
    "    # Computing the components of the multiplication XY\n",
    "    M = Z5 + Z4 - Z2 + Z6  \n",
    "    N = Z1 + Z2\n",
    "    P = Z3 + Z4\n",
    "    Q = Z1 + Z5 - Z3 - Z7\n",
    "    # stacking the components of the multiplications to build matrix multiplication\n",
    "    h1 = torch.hstack([M,N])\n",
    "    h2 = torch.hstack([P,Q])\n",
    "    matrix_multiplication = torch.vstack([h1,h2])\n",
    "    return matrix_multiplication"
   ]
  },
  {
   "cell_type": "code",
   "execution_count": 4,
   "metadata": {},
   "outputs": [],
   "source": [
    "def naive_matrix_mult(X, Y):\n",
    "    n = int(X.shape[0]/2)\n",
    "    if n == 1:\n",
    "        return torch.tensor([[torch.dot(X[0,:],Y[:,0]), torch.dot(X[0,:],Y[:,1]) ],\n",
    "                             [torch.dot(X[1,:],Y[:,0]), torch.dot(X[1,:],Y[:,1]) ]])\n",
    "    # 8 submatricies of X and Y\n",
    "    A = X[:n, :n]\n",
    "    B = X[:n, n:]\n",
    "    C = X[n:, :n]\n",
    "    D = X[n:, n:]\n",
    "    E = Y[:n, :n]\n",
    "    F = Y[:n, n:]\n",
    "    G = Y[n:, :n]\n",
    "    H = Y[n:, n:]\n",
    "    # Computing the components of the multiplication XY\n",
    "    M = naive_matrix_mult(A,E) + naive_matrix_mult(B,G)  \n",
    "    N = naive_matrix_mult(A,F) + naive_matrix_mult(B,H)  \n",
    "    P = naive_matrix_mult(C,E) + naive_matrix_mult(D,G)  \n",
    "    Q = naive_matrix_mult(C,F) + naive_matrix_mult(D,H)  \n",
    "    # stacking the components of the multiplications to build matrix multiplication\n",
    "    h1 = torch.hstack([M,N])\n",
    "    h2 = torch.hstack([P,Q])\n",
    "    matrix_multiplication = torch.vstack([h1,h2])\n",
    "    return matrix_multiplication"
   ]
  },
  {
   "cell_type": "code",
   "execution_count": 5,
   "metadata": {},
   "outputs": [],
   "source": [
    "def by_definition_matrix_mult(X, Y):\n",
    "    n = int(X.shape[0])\n",
    "    Z = torch.zeros(n,n)\n",
    "    for i in range(n):\n",
    "        for j in range(n):\n",
    "            Z[i,j] = torch.dot(X[i,:],Y[:,j])\n",
    "    return Z"
   ]
  },
  {
   "cell_type": "code",
   "execution_count": 12,
   "metadata": {},
   "outputs": [
    {
     "name": "stdout",
     "output_type": "stream",
     "text": [
      "tensor([[ -4,  -7,   2,  ...,  -4,   2,   6],\n",
      "        [  1,   9,   6,  ...,  -5,   9,  -3],\n",
      "        [ -5,  -8,  -8,  ...,   0,   2,  -7],\n",
      "        ...,\n",
      "        [ -7,  10,   3,  ...,  -9, -10,   8],\n",
      "        [  4,   2,  -7,  ...,  -5,   1,  -2],\n",
      "        [  1,   0,  -5,  ..., -10,   7,  -1]])\n",
      "tensor([[  8,   8,  -9,  ...,   7, -10,  -8],\n",
      "        [  7,  -1,   9,  ...,   7,   2,  -3],\n",
      "        [  0,   8,  10,  ...,  -7,  -9,  -1],\n",
      "        ...,\n",
      "        [  8,   5,  -7,  ...,  -9,   9,  -1],\n",
      "        [ -6,   4,  -8,  ...,   9, -10,   8],\n",
      "        [-10,   6,  10,  ...,  -4,   0,   0]])\n"
     ]
    }
   ],
   "source": [
    "# matricies with random integers and using CPU\n",
    "n = 256\n",
    "X = torch.randint(low=-10, high=11, size=(n,n))\n",
    "print(X)\n",
    "Y = torch.randint(low=-10, high=11, size=(n,n))\n",
    "print(Y)"
   ]
  },
  {
   "cell_type": "code",
   "execution_count": 7,
   "metadata": {},
   "outputs": [
    {
     "name": "stdout",
     "output_type": "stream",
     "text": [
      "tensor([[0.2805, 0.8426, 0.4132,  ..., 0.2835, 0.2148, 0.0123],\n",
      "        [0.8611, 0.7705, 0.8043,  ..., 0.3545, 0.3727, 0.1676],\n",
      "        [0.1211, 0.4358, 0.4004,  ..., 0.7909, 0.5573, 0.0433],\n",
      "        ...,\n",
      "        [0.3841, 0.5009, 0.6581,  ..., 0.8104, 0.5988, 0.5321],\n",
      "        [0.5748, 0.0617, 0.2454,  ..., 0.4483, 0.2809, 0.0429],\n",
      "        [0.8988, 0.9917, 0.3168,  ..., 0.6453, 0.6785, 0.4649]],\n",
      "       device='cuda:0')\n",
      "tensor([[0.9259, 0.2074, 0.9687,  ..., 0.6469, 0.0658, 0.3482],\n",
      "        [0.6034, 0.4192, 0.4788,  ..., 0.3869, 0.6007, 0.1296],\n",
      "        [0.7918, 0.3358, 0.1574,  ..., 0.8204, 0.7284, 0.8991],\n",
      "        ...,\n",
      "        [0.2003, 0.6265, 0.6476,  ..., 0.8986, 0.7269, 0.2619],\n",
      "        [0.2055, 0.0269, 0.5605,  ..., 0.5356, 0.7297, 0.6870],\n",
      "        [0.5165, 0.6963, 0.9101,  ..., 0.8222, 0.9616, 0.5181]],\n",
      "       device='cuda:0')\n"
     ]
    }
   ],
   "source": [
    "# matricies with random floats and using CUDA\n",
    "n = 64\n",
    "X = torch.rand( size=(n,n), device=torch.device('cuda:0'))\n",
    "print(X)\n",
    "Y = torch.rand(size=(n,n), device=torch.device('cuda:0'))\n",
    "print(Y)"
   ]
  },
  {
   "cell_type": "code",
   "execution_count": 13,
   "metadata": {},
   "outputs": [
    {
     "name": "stdout",
     "output_type": "stream",
     "text": [
      "tensor([[ -635,   656,    44,  ...,   102,  -153,   -92],\n",
      "        [  496,  -258,   410,  ...,  -112,  -717,   727],\n",
      "        [   28,  -695,  -704,  ...,  1012,  -358, -1031],\n",
      "        ...,\n",
      "        [ -245,  -271,  1949,  ...,   239,   978,   381],\n",
      "        [ -803,  -366,   -45,  ...,   194,  -588,   833],\n",
      "        [   94,  -257,  -611,  ...,    24,   268,   453]])\n",
      "0.0728302001953125\n"
     ]
    }
   ],
   "source": [
    "start_time = time.time()\n",
    "print(torch.matmul(X,Y))\n",
    "print(time.time() - start_time)"
   ]
  },
  {
   "cell_type": "code",
   "execution_count": 14,
   "metadata": {},
   "outputs": [
    {
     "name": "stdout",
     "output_type": "stream",
     "text": [
      "tensor([[ -635,   656,    44,  ...,   102,  -153,   -92],\n",
      "        [  496,  -258,   410,  ...,  -112,  -717,   727],\n",
      "        [   28,  -695,  -704,  ...,  1012,  -358, -1031],\n",
      "        ...,\n",
      "        [ -245,  -271,  1949,  ...,   239,   978,   381],\n",
      "        [ -803,  -366,   -45,  ...,   194,  -588,   833],\n",
      "        [   94,  -257,  -611,  ...,    24,   268,   453]])\n",
      "63.8971734046936\n"
     ]
    }
   ],
   "source": [
    "start_time = time.time()\n",
    "print(strassen_matrix_mult(X, Y))\n",
    "print(time.time() - start_time)"
   ]
  },
  {
   "cell_type": "code",
   "execution_count": 15,
   "metadata": {},
   "outputs": [
    {
     "name": "stdout",
     "output_type": "stream",
     "text": [
      "tensor([[ -635,   656,    44,  ...,   102,  -153,   -92],\n",
      "        [  496,  -258,   410,  ...,  -112,  -717,   727],\n",
      "        [   28,  -695,  -704,  ...,  1012,  -358, -1031],\n",
      "        ...,\n",
      "        [ -245,  -271,  1949,  ...,   239,   978,   381],\n",
      "        [ -803,  -366,   -45,  ...,   194,  -588,   833],\n",
      "        [   94,  -257,  -611,  ...,    24,   268,   453]])\n",
      "137.66592264175415\n"
     ]
    }
   ],
   "source": [
    "start_time = time.time()\n",
    "print(naive_matrix_mult(X, Y))\n",
    "print(time.time() - start_time)"
   ]
  },
  {
   "cell_type": "code",
   "execution_count": 16,
   "metadata": {},
   "outputs": [
    {
     "name": "stdout",
     "output_type": "stream",
     "text": [
      "tensor([[ -635.,   656.,    44.,  ...,   102.,  -153.,   -92.],\n",
      "        [  496.,  -258.,   410.,  ...,  -112.,  -717.,   727.],\n",
      "        [   28.,  -695.,  -704.,  ...,  1012.,  -358., -1031.],\n",
      "        ...,\n",
      "        [ -245.,  -271.,  1949.,  ...,   239.,   978.,   381.],\n",
      "        [ -803.,  -366.,   -45.,  ...,   194.,  -588.,   833.],\n",
      "        [   94.,  -257.,  -611.,  ...,    24.,   268.,   453.]])\n",
      "1.3294436931610107\n"
     ]
    }
   ],
   "source": [
    "start_time = time.time()\n",
    "print(by_definition_matrix_mult(X, Y))\n",
    "print(time.time() - start_time)"
   ]
  }
 ],
 "metadata": {
  "kernelspec": {
   "display_name": "Python 3",
   "language": "python",
   "name": "python3"
  },
  "language_info": {
   "codemirror_mode": {
    "name": "ipython",
    "version": 3
   },
   "file_extension": ".py",
   "mimetype": "text/x-python",
   "name": "python",
   "nbconvert_exporter": "python",
   "pygments_lexer": "ipython3",
   "version": "3.8.3"
  }
 },
 "nbformat": 4,
 "nbformat_minor": 4
}
