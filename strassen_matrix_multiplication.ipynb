{
 "cells": [
  {
   "cell_type": "markdown",
   "metadata": {},
   "source": [
    "# The Strassen Subcubic Matrix Multiplication Algorithm"
   ]
  },
  {
   "cell_type": "markdown",
   "metadata": {},
   "source": [
    "### A simplifying assumption:\n",
    "In this program, we implement the Strassen subcubic matrix multiplication algorithm. Again, we use the divide and conquer strategy. In order to apply this strategy and to keep the presentation simple, we restrict our program to square $n\\times n$ matricies where $n$ is a power of 2, i.e. $n=2^m$ for some positive integer $m$. One can later add a subroutine to avoid this retriction.\n",
    "\n",
    "### Our choice of library:\n",
    "We use pytorch tensors for our work.\n",
    "\n",
    "### High level overview:\n",
    "Let $X$ and $Y$ be two $n\\times n$ matricies as described above. We break each matrix into four submatricies as follow:\n",
    "### $$\n",
    "X=\\left[\\begin{array}{ll}\n",
    "A & B \\\\\n",
    "C & D\n",
    "\\end{array}\\right]\n",
    ",\n",
    "Y=\\left[\\begin{array}{ll}\n",
    "E & F \\\\\n",
    "G & H\n",
    "\\end{array}\\right]\n",
    "$$\n",
    "Then we have \n",
    "### $$\n",
    "X Y=\\left[\\begin{array}{ll}\n",
    "M & N \\\\\n",
    "P & Q\n",
    "\\end{array}\\right]\n",
    "$$\n",
    "where $M, N, P, Q$ are $\\frac{n}{2} \\times \\frac{n}{2}$ square matricies computed as follows:\n",
    "\n",
    "### \\begin{equation}\n",
    "\\begin{aligned}\n",
    "M &=A E+B G \\\\\n",
    "N &=A F+B H \\\\\n",
    "P &=C E+D G \\\\\n",
    "Q &=C F+D H\n",
    "\\end{aligned}\n",
    "\\end{equation}\n",
    "As it is seen in the above equations, now we have to perform 8 smaller matrix multiplications to compute $XY$. If we continue this path, asymptotic running time of our algorithm wold be $O(n^3)$. Strassen, in 1969, proposed a clever method for computing the multiplication $XY$ by computing only 7 smaller matrix multiplications. To implement his method, we define $\\frac{n}{2} \\times \\frac{n}{2}$ square matricies $Z_1, ..., Z_7$ as follows:\n",
    "### \\begin{equation}\n",
    "\\begin{aligned}\n",
    "Z_1 &=A(F-H) \\\\\n",
    "Z_2 &=(A+B)H\\\\\n",
    "Z_3 &=(C+D)E \\\\\n",
    "Z_4 &=D(G-E) \\\\\n",
    "Z_5 &=(A+D)(E+H) \\\\\n",
    "Z_6 &=(B-D)(G+H) \\\\\n",
    "Z_7 &=(A-C)(E+F) \n",
    "\\end{aligned}\n",
    "\\end{equation}\n",
    "Then we have \n",
    "### \\begin{equation}\n",
    "\\begin{aligned}\n",
    "M &=Z_5 + Z_4 - Z_2 + Z_6  \\\\\n",
    "N &=Z_1 + Z_2  \\\\\n",
    "P &=Z_3 + Z_4  \\\\\n",
    "Q &=Z_2 + Z_5 - Z_3 - Z_7  \n",
    "\\end{aligned}\n",
    "\\end{equation}\n",
    "and we get an asymptotically faster algorithm that $O(n^3)$.\n",
    "### Comparison:\n",
    "We also implement ordinary matrix multiplication. Finally, we compare the running time of Strassen algorithm with ordinary matrix mulriplication and with torch.matmul function in pytorch on two large matricies consisting of random entries.\n",
    "\n",
    "### We continue to use the above notation in our code:"
   ]
  },
  {
   "cell_type": "code",
   "execution_count": 1,
   "metadata": {},
   "outputs": [],
   "source": [
    "import torch"
   ]
  },
  {
   "cell_type": "code",
   "execution_count": 19,
   "metadata": {},
   "outputs": [],
   "source": [
    "import time"
   ]
  },
  {
   "cell_type": "code",
   "execution_count": 11,
   "metadata": {},
   "outputs": [],
   "source": [
    "def strassen_matrix_mult(X, Y):\n",
    "    n = int(X.shape[0]/2)\n",
    "    if n == 1:\n",
    "        return torch.tensor([[torch.dot(X[0,:],Y[:,0]), torch.dot(X[0,:],Y[:,1]) ],\n",
    "                             [torch.dot(X[1,:],Y[:,0]), torch.dot(X[1,:],Y[:,1]) ]])\n",
    "    # 8 submatricies of X and Y\n",
    "    A = X[:n, :n]\n",
    "    B = X[:n, n:]\n",
    "    C = X[n:, :n]\n",
    "    D = X[n:, n:]\n",
    "    E = Y[:n, :n]\n",
    "    F = Y[:n, n:]\n",
    "    G = Y[n:, :n]\n",
    "    H = Y[n:, n:]\n",
    "    # 7 matricies of Strassen method\n",
    "    Z1 = strassen_matrix_mult(A, F-H)\n",
    "    Z2 = strassen_matrix_mult(A+B, H)\n",
    "    Z3 = strassen_matrix_mult(C+D, E)\n",
    "    Z4 = strassen_matrix_mult(D, G-E)\n",
    "    Z5 = strassen_matrix_mult(A+D, E+H)\n",
    "    Z6 = strassen_matrix_mult(B-D, G+H)\n",
    "    Z7 = strassen_matrix_mult(A-C, E+F)\n",
    "    # Computing the components of the multiplication XY\n",
    "    M = Z5 + Z4 - Z2 + Z6  \n",
    "    N = Z1 + Z2\n",
    "    P = Z3 + Z4\n",
    "    Q = Z1 + Z5 - Z3 - Z7\n",
    "    # stacking the components of the multiplications to build matrix multiplication\n",
    "    h1 = torch.hstack([M,N])\n",
    "    h2 = torch.hstack([P,Q])\n",
    "    matrix_multiplication = torch.vstack([h1,h2])\n",
    "    return matrix_multiplication"
   ]
  },
  {
   "cell_type": "code",
   "execution_count": 28,
   "metadata": {},
   "outputs": [],
   "source": [
    "def ordinary_matrix_mult(X, Y):\n",
    "    n = int(X.shape[0]/2)\n",
    "    if n == 1:\n",
    "        return torch.tensor([[torch.dot(X[0,:],Y[:,0]), torch.dot(X[0,:],Y[:,1]) ],\n",
    "                             [torch.dot(X[1,:],Y[:,0]), torch.dot(X[1,:],Y[:,1]) ]])\n",
    "    # 8 submatricies of X and Y\n",
    "    A = X[:n, :n]\n",
    "    B = X[:n, n:]\n",
    "    C = X[n:, :n]\n",
    "    D = X[n:, n:]\n",
    "    E = Y[:n, :n]\n",
    "    F = Y[:n, n:]\n",
    "    G = Y[n:, :n]\n",
    "    H = Y[n:, n:]\n",
    "    # Computing the components of the multiplication XY\n",
    "    M = ordinary_matrix_mult(A,E) + ordinary_matrix_mult(B,G)  \n",
    "    N = ordinary_matrix_mult(A,F) + ordinary_matrix_mult(B,H)  \n",
    "    P = ordinary_matrix_mult(C,E) + ordinary_matrix_mult(D,G)  \n",
    "    Q = ordinary_matrix_mult(C,F) + ordinary_matrix_mult(D,H)  \n",
    "    # stacking the components of the multiplications to build matrix multiplication\n",
    "    h1 = torch.hstack([M,N])\n",
    "    h2 = torch.hstack([P,Q])\n",
    "    matrix_multiplication = torch.vstack([h1,h2])\n",
    "    return matrix_multiplication"
   ]
  },
  {
   "cell_type": "code",
   "execution_count": 55,
   "metadata": {},
   "outputs": [
    {
     "name": "stdout",
     "output_type": "stream",
     "text": [
      "tensor([[46054, 63575,  8414,  ..., 30129,  6165, 52170],\n",
      "        [45940, 18311, 50978,  ..., 57628, 12509, 18013],\n",
      "        [53073, 41521,  1757,  ..., 42470, 35809,  9114],\n",
      "        ...,\n",
      "        [27296, 58590, 48791,  ..., 56130, 53086, 16077],\n",
      "        [40391, 20040, 51890,  ..., 34412, 63461, 55285],\n",
      "        [45532, 22264,  9981,  ..., 21428, 28455, 23347]])\n",
      "tensor([[59173, 58592, 20934,  ..., 13411, 55370,  6986],\n",
      "        [63237, 58029, 59260,  ..., 19813, 52887,  3668],\n",
      "        [15039, 11020,  9207,  ..., 63262,  7127, 46368],\n",
      "        ...,\n",
      "        [23778, 39437,  9077,  ..., 54282, 33477, 35456],\n",
      "        [46372, 54678, 49018,  ...,  1737, 23299, 14401],\n",
      "        [54944, 15661, 59929,  ..., 29973, 43952, 11586]])\n"
     ]
    }
   ],
   "source": [
    "n = 256\n",
    "X = torch.randint(n*n, (n,n))\n",
    "print(X)\n",
    "Y = torch.randint(n*n, (n,n))\n",
    "print(Y)"
   ]
  },
  {
   "cell_type": "code",
   "execution_count": 56,
   "metadata": {},
   "outputs": [
    {
     "name": "stdout",
     "output_type": "stream",
     "text": [
      "tensor([[271762007233, 263202843837, 254572589238,  ..., 281104117193,\n",
      "         266192091199, 257412165554],\n",
      "        [282411029445, 277203139824, 272814712034,  ..., 301558551249,\n",
      "         267715354407, 283685389017],\n",
      "        [271276742263, 270523240144, 241912566450,  ..., 281612050922,\n",
      "         255104722054, 262067168605],\n",
      "        ...,\n",
      "        [261925232362, 271193187508, 266047462499,  ..., 293828739313,\n",
      "         277511295859, 271003062631],\n",
      "        [284497046250, 276750613555, 268808952557,  ..., 296538071465,\n",
      "         281465741563, 288802938709],\n",
      "        [273066060828, 273522019251, 250224024368,  ..., 289298857764,\n",
      "         266567949099, 269083741823]])\n",
      "0.07479643821716309\n"
     ]
    }
   ],
   "source": [
    "start_time = time.time()\n",
    "print(torch.matmul(X,Y))\n",
    "print(time.time() - start_time)"
   ]
  },
  {
   "cell_type": "code",
   "execution_count": 57,
   "metadata": {},
   "outputs": [
    {
     "name": "stdout",
     "output_type": "stream",
     "text": [
      "tensor([[271762007233, 263202843837, 254572589238,  ..., 281104117193,\n",
      "         266192091199, 257412165554],\n",
      "        [282411029445, 277203139824, 272814712034,  ..., 301558551249,\n",
      "         267715354407, 283685389017],\n",
      "        [271276742263, 270523240144, 241912566450,  ..., 281612050922,\n",
      "         255104722054, 262067168605],\n",
      "        ...,\n",
      "        [261925232362, 271193187508, 266047462499,  ..., 293828739313,\n",
      "         277511295859, 271003062631],\n",
      "        [284497046250, 276750613555, 268808952557,  ..., 296538071465,\n",
      "         281465741563, 288802938709],\n",
      "        [273066060828, 273522019251, 250224024368,  ..., 289298857764,\n",
      "         266567949099, 269083741823]])\n",
      "64.92769837379456\n"
     ]
    }
   ],
   "source": [
    "start_time = time.time()\n",
    "print(strassen_matrix_mult(X, Y))\n",
    "print(time.time() - start_time)"
   ]
  },
  {
   "cell_type": "code",
   "execution_count": 58,
   "metadata": {},
   "outputs": [
    {
     "name": "stdout",
     "output_type": "stream",
     "text": [
      "tensor([[271762007233, 263202843837, 254572589238,  ..., 281104117193,\n",
      "         266192091199, 257412165554],\n",
      "        [282411029445, 277203139824, 272814712034,  ..., 301558551249,\n",
      "         267715354407, 283685389017],\n",
      "        [271276742263, 270523240144, 241912566450,  ..., 281612050922,\n",
      "         255104722054, 262067168605],\n",
      "        ...,\n",
      "        [261925232362, 271193187508, 266047462499,  ..., 293828739313,\n",
      "         277511295859, 271003062631],\n",
      "        [284497046250, 276750613555, 268808952557,  ..., 296538071465,\n",
      "         281465741563, 288802938709],\n",
      "        [273066060828, 273522019251, 250224024368,  ..., 289298857764,\n",
      "         266567949099, 269083741823]])\n",
      "141.20595574378967\n"
     ]
    }
   ],
   "source": [
    "start_time = time.time()\n",
    "print(ordinary_matrix_mult(X, Y))\n",
    "print(time.time() - start_time)"
   ]
  },
  {
   "cell_type": "code",
   "execution_count": null,
   "metadata": {},
   "outputs": [],
   "source": []
  }
 ],
 "metadata": {
  "kernelspec": {
   "display_name": "Python 3",
   "language": "python",
   "name": "python3"
  },
  "language_info": {
   "codemirror_mode": {
    "name": "ipython",
    "version": 3
   },
   "file_extension": ".py",
   "mimetype": "text/x-python",
   "name": "python",
   "nbconvert_exporter": "python",
   "pygments_lexer": "ipython3",
   "version": "3.8.3"
  }
 },
 "nbformat": 4,
 "nbformat_minor": 4
}
